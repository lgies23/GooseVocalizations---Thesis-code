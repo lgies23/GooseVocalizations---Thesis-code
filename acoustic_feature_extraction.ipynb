{
 "cells": [
  {
   "cell_type": "code",
   "execution_count": null,
   "metadata": {},
   "outputs": [],
   "source": [
    "import numpy as np\n",
    "from scipy import signal"
   ]
  },
  {
   "cell_type": "code",
   "execution_count": null,
   "metadata": {},
   "outputs": [],
   "source": [
    "def _exclude_trailing_and_leading_zeros(envelope):\n",
    "    # Exclude trailing zeros (identify the last non-zero element)\n",
    "    non_zero_end = np.argmax(envelope[::-1] > 0)\n",
    "    envelope = envelope[:len(envelope) - non_zero_end]\n",
    "    # Exclude leading zeros (find the first non-zero value)\n",
    "    non_zero_start = np.argmax(envelope > 0)\n",
    "    return envelope[non_zero_start:]"
   ]
  },
  {
   "cell_type": "code",
   "execution_count": null,
   "metadata": {},
   "outputs": [],
   "source": [
    "def _dominant_freqs(amp_spectrogram, freqs, history_size=3):    \n",
    "    dominant_freqs = []\n",
    "    amp_range = np.max(amp_spectrogram)-np.min(amp_spectrogram)\n",
    "\n",
    "    # Iterate over time frames\n",
    "    for t in range(amp_spectrogram.shape[1]):\n",
    "        # Get power spectrum for time frame\n",
    "        power_spectrum = amp_spectrogram[:, t]\n",
    "        peaks, _ = signal.find_peaks(power_spectrum, height=amp_range*0.05, distance=len(freqs)//50, prominence=amp_range*0.05) # 5% of amp range, 5% of freq bins, 5% of amp range\n",
    "\n",
    "        # If no peaks, take frequency with highest amplitude\n",
    "        if len(peaks) == 0:\n",
    "            dominant_freq = freqs[np.argmax(power_spectrum)]\n",
    "        else:\n",
    "            if len(dominant_freqs) >= history_size:\n",
    "                recent_avg_freq = np.mean(dominant_freqs[-history_size:])\n",
    "            else:\n",
    "                recent_avg_freq = np.mean(dominant_freqs) if dominant_freqs else freqs[peaks[0]]  # Fallback to the first peak\n",
    "\n",
    "            # Choose peak closest to the previous dominant frequency\n",
    "            if len(dominant_freqs) == 0:\n",
    "                # for first frame\n",
    "                dominant_freq = freqs[peaks[np.argmax(power_spectrum[peaks])]]\n",
    "            else:\n",
    "                # For subsequent frames: find peak closest to recent average frequency\n",
    "                distances = np.abs(freqs[peaks] - recent_avg_freq)\n",
    "                closest_peak = peaks[np.argmin(distances)]\n",
    "                dominant_freq = freqs[closest_peak]\n",
    "\n",
    "        dominant_freqs.append(dominant_freq)\n",
    "    return np.asarray(dominant_freqs)"
   ]
  },
  {
   "cell_type": "code",
   "execution_count": null,
   "metadata": {},
   "outputs": [],
   "source": [
    "def calculate_power_spectral_entropy(y, N_FFT):\n",
    "        \"\"\"\n",
    "        Calculates the power spectral entropy as follows:\n",
    "        1. Calculate Power Spectral Distribution\n",
    "        2. Normalize PSD (to treat it as a measure of probability)\n",
    "        3. Calculate Shannon-Wiener entropy of normalized PSD using scipy\n",
    "\n",
    "        https://de.mathworks.com/help/signal/ref/spectralentropy.html accessed January 13th, 2025. 18:34 pm\n",
    "        \"\"\"\n",
    "        #_, psd = signal.welch(self.y, self.sr, nperseg=N_FFT, noverlap=N_FFT//HOP_OVERLAP) # would return psd - frequency spectrum squared and scaled by sum - \n",
    "        psd = np.abs(signal.fft.fft(y, n=N_FFT)) ** 2\n",
    "        psd_norm = psd / np.sum(psd)\n",
    "\n",
    "        # TODO should I do this?\n",
    "        psd_norm = _exclude_trailing_and_leading_zeros(psd_norm)\n",
    "        # Ensure no zero values in normalized power distribution\n",
    "        #psd_norm_nonzero = psd_norm[psd_norm > 0]\n",
    "        psd_norm = np.where(psd_norm > 0, psd_norm, 1e-10)\n",
    "\n",
    "        pse = -np.sum(psd_norm * np.log2(psd_norm))\n",
    "\n",
    "        return pse"
   ]
  },
  {
   "cell_type": "code",
   "execution_count": null,
   "metadata": {},
   "outputs": [],
   "source": []
  }
 ],
 "metadata": {
  "language_info": {
   "name": "python"
  }
 },
 "nbformat": 4,
 "nbformat_minor": 2
}
