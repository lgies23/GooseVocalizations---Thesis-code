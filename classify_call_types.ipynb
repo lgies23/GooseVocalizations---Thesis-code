{
 "cells": [
  {
   "cell_type": "markdown",
   "metadata": {},
   "source": [
    "This script serves as a sanity check on the representation level.\n",
    "The different data representations are used to classify call types as a proof of sufficient information.\n",
    "\n",
    "DFA (PAFs), simple MLPs (LFCCs) and CNNs (spectrograms) are used to classify the different call types."
   ]
  },
  {
   "cell_type": "markdown",
   "metadata": {},
   "source": [
    "## MLP"
   ]
  },
  {
   "cell_type": "markdown",
   "metadata": {},
   "source": [
    "## CNN"
   ]
  }
 ],
 "metadata": {
  "language_info": {
   "name": "python"
  }
 },
 "nbformat": 4,
 "nbformat_minor": 2
}
